{
 "cells": [
  {
   "cell_type": "code",
   "execution_count": 29,
   "id": "88e67d8f",
   "metadata": {},
   "outputs": [],
   "source": [
    "from selenium import webdriver\n",
    "import pandas as pd\n",
    "import bs4\n",
    "import time\n",
    "import csv\n",
    "import os\n",
    "import random"
   ]
  },
  {
   "cell_type": "code",
   "execution_count": 13,
   "id": "8c6eca24",
   "metadata": {},
   "outputs": [],
   "source": [
    "driver=webdriver.Chrome('../chromedriver.exe')"
   ]
  },
  {
   "cell_type": "markdown",
   "id": "a7a46213",
   "metadata": {},
   "source": [
    "## Read Excel file"
   ]
  },
  {
   "cell_type": "code",
   "execution_count": 3,
   "id": "614ffa54",
   "metadata": {},
   "outputs": [],
   "source": [
    "def read_excelfile(path):\n",
    "    df=pd.read_excel(path)\n",
    "#     print(df)\n",
    "    return list(df['Links'])"
   ]
  },
  {
   "cell_type": "markdown",
   "id": "51a8ef4e",
   "metadata": {},
   "source": [
    "## URL map playlist-to-upload-video"
   ]
  },
  {
   "cell_type": "code",
   "execution_count": 4,
   "id": "af8bca44",
   "metadata": {
    "scrolled": false
   },
   "outputs": [],
   "source": [
    "def cha(x):\n",
    "    if '/playlists' in x:\n",
    "        x=x.replace('/playlists','/videos')\n",
    "    elif '/videos'!=x[-7]:\n",
    "        x=x+'/videos'\n",
    "    return x"
   ]
  },
  {
   "cell_type": "markdown",
   "id": "5c329db3",
   "metadata": {},
   "source": [
    "## Store Data"
   ]
  },
  {
   "cell_type": "code",
   "execution_count": 6,
   "id": "457cff5f",
   "metadata": {},
   "outputs": [],
   "source": [
    "def store_data(v_url,v_title,v_views,vtags,plist):\n",
    "    plist=[plist for i in range(len(v_title))]\n",
    "    data=pd.DataFrame({'Channel playlist':plist,'Video URL':v_url,'Title':v_title,'Views':v_views,'Tags':vtags})\n",
    "    if os.path.isfile('sample.csv'):\n",
    "        data.to_csv('sample.csv',index=False,mode='a',header=False)\n",
    "    else:\n",
    "        data.to_csv('sample.csv',index=False,mode='a')"
   ]
  },
  {
   "cell_type": "markdown",
   "id": "2aedeb73",
   "metadata": {},
   "source": [
    "## Extract Page"
   ]
  },
  {
   "cell_type": "code",
   "execution_count": 7,
   "id": "2169a8fe",
   "metadata": {},
   "outputs": [],
   "source": [
    "def extract_data():\n",
    "    page=bs4.BeautifulSoup(driver.page_source,'lxml')\n",
    "    items=page.find('div', attrs={'id':'contents'})\n",
    "    v_url,v_title,v_views,vtags=[],[],[],[]\n",
    "    for i in items.find_all('ytd-grid-video-renderer'):\n",
    "#         print('Video URL :','https://www.youtube.com'+i.a['href'])\n",
    "#         print('Video Title :',i.find('a',attrs={'id':'video-title'}).text)\n",
    "        title=i.find('a',attrs={'id':'video-title'}).text\n",
    "        v_d=i.find('div',attrs={'id':'metadata-line'}).text\n",
    "#         print('Views :',v_d.split('views')[0])\n",
    "#         print('Date :',v_d.split('views')[1])\n",
    "\n",
    "        v_url.append('https://www.youtube.com'+i.a['href'])\n",
    "        v_title.append(i.find('a',attrs={'id':'video-title'}).text)\n",
    "        v_views.append(v_d.split('views')[0])\n",
    "        if '|' in title:\n",
    "            vtags.append(', '.join(title.strip().split('|')))\n",
    "\n",
    "        else:\n",
    "            vtags.append('')\n",
    "\n",
    "#         try:\n",
    "#             print('img :',i.img['src'])\n",
    "#         except:\n",
    "#             print('img :')\n",
    "#         print()\n",
    "    return v_url,v_title,v_views,vtags"
   ]
  },
  {
   "cell_type": "markdown",
   "id": "fb53c6e2",
   "metadata": {},
   "source": [
    "## For Second Time Search"
   ]
  },
  {
   "cell_type": "code",
   "execution_count": 8,
   "id": "db881305",
   "metadata": {},
   "outputs": [],
   "source": [
    "def second_monitor(plist):\n",
    "    while True:\n",
    "        driver.execute_script('window.scrollTo(0,document.documentElement.scrollHeight)')\n",
    "        time.sleep(2)\n",
    "        \n",
    "        v_url,v_title,v_views,vtags=extract_data()\n",
    "        dd1=pd.read_csv('sample.csv')\n",
    "        if len(dd1[dd1['Title'].isin(v_title)])==len(v_title):\n",
    "            print('All Videos Present Already')\n",
    "            break\n",
    "        elif len(dd1[dd1['Title'].isin(v_title)])==0:\n",
    "            print('Continue')\n",
    "            continue\n",
    "        else:\n",
    "            print('other')\n",
    "            l1=list(set(v_title)-set(dd1['Title'][dd1['Title'].isin(v_title)]))\n",
    "            n_index_list=[v_title.index(i) for i in l1]\n",
    "            v_url1,v_title1,v_views1,vtags1=[],[],[],[]\n",
    "            for i in n_index_list:\n",
    "                v_url1.append(v_url[i])\n",
    "                v_title1.append(v_title[i])\n",
    "                v_views1.append(v_views[i])\n",
    "                vtags1.append(vtags[i])\n",
    "#             print(v_url1,v_title1,v_views1,vtags1)\n",
    "            store_data(v_url1,v_title1,v_views1,vtags1,plist)\n",
    "            \n",
    "            break\n",
    "                "
   ]
  },
  {
   "cell_type": "markdown",
   "id": "bc58dc3f",
   "metadata": {},
   "source": [
    "## For First Time Search"
   ]
  },
  {
   "cell_type": "code",
   "execution_count": 36,
   "id": "e594ab81",
   "metadata": {
    "scrolled": true
   },
   "outputs": [],
   "source": [
    "def first_monitor(plist):\n",
    "    c=1\n",
    "    while True:\n",
    "        start=driver.execute_script('return document.documentElement.scrollHeight')\n",
    "        driver.execute_script('window.scrollTo(0,document.documentElement.scrollHeight)')\n",
    "#         time.sleep(1)\n",
    "        time.sleep(2.5)\n",
    "        end=driver.execute_script('return document.documentElement.scrollHeight')\n",
    "        print(start, end)\n",
    "        if (start==end) & (c<4):\n",
    "            time.sleep(c*3)\n",
    "            c+=1\n",
    "            print(\"Same & Run\")\n",
    "            continue\n",
    "        elif start!=end:\n",
    "            print(\"Loading\")\n",
    "            c=1 \n",
    "        elif c==4:\n",
    "            print(\"No More Load\")\n",
    "            break\n",
    "    v_url,v_title,v_views,vtags=extract_data()\n",
    "    store_data(v_url,v_title,v_views,vtags,plist)"
   ]
  },
  {
   "cell_type": "markdown",
   "id": "d51cc689",
   "metadata": {},
   "source": [
    "## Main RUn"
   ]
  },
  {
   "cell_type": "code",
   "execution_count": 32,
   "id": "96cac8c9",
   "metadata": {},
   "outputs": [],
   "source": [
    "def start_run(links):\n",
    "    for i in links:\n",
    "        driver.get(i)\n",
    "        if os.path.isfile('sample.csv'):\n",
    "            d2=pd.read_csv('sample.csv')\n",
    "            if len(d2[d2['Channel playlist'].isin([i])]):\n",
    "                print('This Channel Present in Output file')\n",
    "                second_monitor(i)\n",
    "            else:\n",
    "                print('This Channel Monitor First Time')\n",
    "                first_monitor(i)\n",
    "        else:\n",
    "            print('This Channel Monitor First Time')\n",
    "            first_monitor(i)"
   ]
  },
  {
   "cell_type": "code",
   "execution_count": 37,
   "id": "1ae5b06f",
   "metadata": {
    "scrolled": true
   },
   "outputs": [
    {
     "name": "stdout",
     "output_type": "stream",
     "text": [
      "This Channel Present in Output file\n"
     ]
    },
    {
     "ename": "KeyboardInterrupt",
     "evalue": "",
     "output_type": "error",
     "traceback": [
      "\u001b[1;31m---------------------------------------------------------------------------\u001b[0m",
      "\u001b[1;31mKeyboardInterrupt\u001b[0m                         Traceback (most recent call last)",
      "\u001b[1;32m~\\AppData\\Local\\Temp/ipykernel_13112/1620376908.py\u001b[0m in \u001b[0;36m<module>\u001b[1;34m\u001b[0m\n\u001b[0;32m      7\u001b[0m         \u001b[0mprint\u001b[0m\u001b[1;33m(\u001b[0m\u001b[1;34m'Youtube Channels URL File Not Present'\u001b[0m\u001b[1;33m)\u001b[0m\u001b[1;33m\u001b[0m\u001b[1;33m\u001b[0m\u001b[0m\n\u001b[0;32m      8\u001b[0m         \u001b[1;32mbreak\u001b[0m\u001b[1;33m\u001b[0m\u001b[1;33m\u001b[0m\u001b[0m\n\u001b[1;32m----> 9\u001b[1;33m     \u001b[0mstart_run\u001b[0m\u001b[1;33m(\u001b[0m\u001b[0mdf\u001b[0m\u001b[1;33m[\u001b[0m\u001b[1;33m:\u001b[0m\u001b[1;36m5\u001b[0m\u001b[1;33m]\u001b[0m\u001b[1;33m)\u001b[0m\u001b[1;33m\u001b[0m\u001b[1;33m\u001b[0m\u001b[0m\n\u001b[0m\u001b[0;32m     10\u001b[0m     \u001b[0mtime\u001b[0m\u001b[1;33m.\u001b[0m\u001b[0msleep\u001b[0m\u001b[1;33m(\u001b[0m\u001b[0mrandom\u001b[0m\u001b[1;33m.\u001b[0m\u001b[0mrandint\u001b[0m\u001b[1;33m(\u001b[0m\u001b[1;36m100\u001b[0m\u001b[1;33m,\u001b[0m\u001b[1;36m200\u001b[0m\u001b[1;33m)\u001b[0m\u001b[1;33m)\u001b[0m\u001b[1;33m\u001b[0m\u001b[1;33m\u001b[0m\u001b[0m\n",
      "\u001b[1;32m~\\AppData\\Local\\Temp/ipykernel_13112/2161827444.py\u001b[0m in \u001b[0;36mstart_run\u001b[1;34m(links)\u001b[0m\n\u001b[0;32m      6\u001b[0m             \u001b[1;32mif\u001b[0m \u001b[0mlen\u001b[0m\u001b[1;33m(\u001b[0m\u001b[0md2\u001b[0m\u001b[1;33m[\u001b[0m\u001b[0md2\u001b[0m\u001b[1;33m[\u001b[0m\u001b[1;34m'Channel playlist'\u001b[0m\u001b[1;33m]\u001b[0m\u001b[1;33m.\u001b[0m\u001b[0misin\u001b[0m\u001b[1;33m(\u001b[0m\u001b[1;33m[\u001b[0m\u001b[0mi\u001b[0m\u001b[1;33m]\u001b[0m\u001b[1;33m)\u001b[0m\u001b[1;33m]\u001b[0m\u001b[1;33m)\u001b[0m\u001b[1;33m:\u001b[0m\u001b[1;33m\u001b[0m\u001b[1;33m\u001b[0m\u001b[0m\n\u001b[0;32m      7\u001b[0m                 \u001b[0mprint\u001b[0m\u001b[1;33m(\u001b[0m\u001b[1;34m'This Channel Present in Output file'\u001b[0m\u001b[1;33m)\u001b[0m\u001b[1;33m\u001b[0m\u001b[1;33m\u001b[0m\u001b[0m\n\u001b[1;32m----> 8\u001b[1;33m                 \u001b[0msecond_monitor\u001b[0m\u001b[1;33m(\u001b[0m\u001b[0mi\u001b[0m\u001b[1;33m)\u001b[0m\u001b[1;33m\u001b[0m\u001b[1;33m\u001b[0m\u001b[0m\n\u001b[0m\u001b[0;32m      9\u001b[0m             \u001b[1;32melse\u001b[0m\u001b[1;33m:\u001b[0m\u001b[1;33m\u001b[0m\u001b[1;33m\u001b[0m\u001b[0m\n\u001b[0;32m     10\u001b[0m                 \u001b[0mprint\u001b[0m\u001b[1;33m(\u001b[0m\u001b[1;34m'This Channel Monitor First Time'\u001b[0m\u001b[1;33m)\u001b[0m\u001b[1;33m\u001b[0m\u001b[1;33m\u001b[0m\u001b[0m\n",
      "\u001b[1;32m~\\AppData\\Local\\Temp/ipykernel_13112/1643513969.py\u001b[0m in \u001b[0;36msecond_monitor\u001b[1;34m(plist)\u001b[0m\n\u001b[0;32m      2\u001b[0m     \u001b[1;32mwhile\u001b[0m \u001b[1;32mTrue\u001b[0m\u001b[1;33m:\u001b[0m\u001b[1;33m\u001b[0m\u001b[1;33m\u001b[0m\u001b[0m\n\u001b[0;32m      3\u001b[0m         \u001b[0mdriver\u001b[0m\u001b[1;33m.\u001b[0m\u001b[0mexecute_script\u001b[0m\u001b[1;33m(\u001b[0m\u001b[1;34m'window.scrollTo(0,document.documentElement.scrollHeight)'\u001b[0m\u001b[1;33m)\u001b[0m\u001b[1;33m\u001b[0m\u001b[1;33m\u001b[0m\u001b[0m\n\u001b[1;32m----> 4\u001b[1;33m         \u001b[0mtime\u001b[0m\u001b[1;33m.\u001b[0m\u001b[0msleep\u001b[0m\u001b[1;33m(\u001b[0m\u001b[1;36m2\u001b[0m\u001b[1;33m)\u001b[0m\u001b[1;33m\u001b[0m\u001b[1;33m\u001b[0m\u001b[0m\n\u001b[0m\u001b[0;32m      5\u001b[0m \u001b[1;33m\u001b[0m\u001b[0m\n\u001b[0;32m      6\u001b[0m         \u001b[0mv_url\u001b[0m\u001b[1;33m,\u001b[0m\u001b[0mv_title\u001b[0m\u001b[1;33m,\u001b[0m\u001b[0mv_views\u001b[0m\u001b[1;33m,\u001b[0m\u001b[0mvtags\u001b[0m\u001b[1;33m=\u001b[0m\u001b[0mextract_data\u001b[0m\u001b[1;33m(\u001b[0m\u001b[1;33m)\u001b[0m\u001b[1;33m\u001b[0m\u001b[1;33m\u001b[0m\u001b[0m\n",
      "\u001b[1;31mKeyboardInterrupt\u001b[0m: "
     ]
    }
   ],
   "source": [
    "while True:\n",
    "    try:\n",
    "        df=read_excelfile('Fan Videos.xlsx')\n",
    "        for i in range(len(df)):\n",
    "            df[i]=cha(df[i])\n",
    "    except:\n",
    "        print('Youtube Channels URL File Not Present')\n",
    "        break\n",
    "    start_run(df[:5])\n",
    "    time.sleep(random.randint(100,200))"
   ]
  },
  {
   "cell_type": "code",
   "execution_count": null,
   "id": "18a5c265",
   "metadata": {},
   "outputs": [],
   "source": []
  }
 ],
 "metadata": {
  "kernelspec": {
   "display_name": "Python 3 (ipykernel)",
   "language": "python",
   "name": "python3"
  },
  "language_info": {
   "codemirror_mode": {
    "name": "ipython",
    "version": 3
   },
   "file_extension": ".py",
   "mimetype": "text/x-python",
   "name": "python",
   "nbconvert_exporter": "python",
   "pygments_lexer": "ipython3",
   "version": "3.8.6"
  }
 },
 "nbformat": 4,
 "nbformat_minor": 5
}
